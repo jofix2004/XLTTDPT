{
 "cells": [
  {
   "cell_type": "markdown",
   "metadata": {
    "id": "RE1n8kLOZI6Y",
    "tags": []
   },
   "source": [
    "# **CÀI ĐẶT THƯ VIỆN** (Runs only once!)\n",
    "## Requirements 👇\n"
   ]
  },
  {
   "cell_type": "code",
   "execution_count": 1,
   "metadata": {
    "id": "A1p2bOziZI6Y",
    "tags": []
   },
   "outputs": [
    {
     "name": "stdout",
     "output_type": "stream",
     "text": [
      "\u001b[1;32mDone!\n"
     ]
    }
   ],
   "source": [
    "!pip install flask opencv-python matplotlib pyngrok\n",
    "%pip install opencv-python-headless"
    "pip install flask-ngrok pyngrok"
   ]
  },
  {
   "cell_type": "markdown",
   "metadata": {
    "id": "7tJLpUoHZI6Z",
    "tags": []
   },
   "source": [
    "# **KHỞI CHẠY APP**\n"
   ]
  },
  {
   "cell_type": "code",
   "execution_count": null,
   "metadata": {
    "id": "FQyXmO0fZI6a",
    "tags": []
   },
   "outputs": [
    {
     "name": "stdout",
     "output_type": "stream",
     "text": [
      " * Running on ngrok  https://89df-3-135-152-169.ngrok-free.app\n",
      " * Serving Flask app 'app'\n",
      " * Debug mode: on\n",
      "\u001b[31m\u001b[1mWARNING: This is a development server. Do not use it in a production deployment. Use a production WSGI server instead.\u001b[0m\n",
      " * Running on http://127.0.0.1:5000\n",
      "\u001b[33mPress CTRL+C to quit\u001b[0m\n",
      " * Restarting with stat\n",
      "t=2024-04-02T03:21:27+0000 lvl=warn msg=\"can't bind default web address, trying alternatives\" obj=web addr=127.0.0.1:4040\n",
      " * Running on ngrok  https://1aef-3-135-152-169.ngrok-free.app\n",
      " * Debugger is active!\n",
      " * Debugger PIN: 473-220-131\n",
      "127.0.0.1 - - [02/Apr/2024 03:21:33] \"GET / HTTP/1.1\" 200 -\n",
      "127.0.0.1 - - [02/Apr/2024 03:21:33] \"\u001b[33mGET /favicon.ico HTTP/1.1\u001b[0m\" 404 -\n",
      "/home/studio-lab-user/TEST1/app.py:27: DeprecationWarning: The binary mode of fromstring is deprecated, as it behaves surprisingly on unicode inputs. Use frombuffer instead\n",
      "  img = cv2.imdecode(np.fromstring(file.read(), np.uint8), cv2.IMREAD_COLOR)\n",
      "127.0.0.1 - - [02/Apr/2024 03:21:38] \"POST /rotate HTTP/1.1\" 200 -\n"
     ]
    }
   ],
   "source": [
    "!python app.py"
   ]
  },
  {
   "cell_type": "markdown",
   "metadata": {
    "id": "xMNePTxDZI6c",
    "tags": []
   },
   "source": [
    "# **Maintenance**"
   ]
  },
  {
   "cell_type": "code",
   "execution_count": 1,
   "metadata": {
    "id": "U3fphZyuZI6c",
    "tags": []
   },
   "outputs": [],
   "source": [
    "#clean remove all env, cache and file\n",
    "\n",
    "!rm -r /home/studio-lab-user/.cache\n",
    "!rm -r /home/studio-lab-user/.conda\n",
    "!conda remove -n \"env_name\" --all\n",
    "!rm -rf /home/studio-lab-user/*"
   ]
  },
  {
   "cell_type": "code",
   "execution_count": null,
   "metadata": {
    "id": "YApy5h6TZI6d"
   },
   "outputs": [],
   "source": [
    "#Check the storage available\n",
    "!df -h | grep -E 'Avail|home'"
   ]
  },
  {
   "cell_type": "code",
   "execution_count": null,
   "metadata": {
    "id": "vwRdajvuZI6d",
    "tags": []
   },
   "outputs": [],
   "source": [
    "#List all folders and sizes\n",
    "!du -h --max-depth=1 /home/studio-lab-user"
   ]
  }
 ],
 "metadata": {
  "colab": {
   "collapsed_sections": [
    "RE1n8kLOZI6Y",
    "7tJLpUoHZI6Z",
    "3wZXNNiHZI6c",
    "xMNePTxDZI6c"
   ],
   "provenance": []
  },
  "kernelspec": {
   "display_name": "default:Python",
   "language": "python",
   "name": "conda-env-default-py"
  },
  "language_info": {
   "codemirror_mode": {
    "name": "ipython",
    "version": 3
   },
   "file_extension": ".py",
   "mimetype": "text/x-python",
   "name": "python",
   "nbconvert_exporter": "python",
   "pygments_lexer": "ipython3",
   "version": "3.9.16"
  }
 },
 "nbformat": 4,
 "nbformat_minor": 4
}
